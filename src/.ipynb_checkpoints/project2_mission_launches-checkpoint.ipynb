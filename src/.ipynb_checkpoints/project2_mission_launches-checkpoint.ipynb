{
 "cells": [
  {
   "cell_type": "code",
   "execution_count": 48,
   "id": "87771db9",
   "metadata": {},
   "outputs": [],
   "source": [
    "import requests\n",
    "from bs4 import BeautifulSoup\n",
    "import pandas as pd\n",
    "from urllib.request import urlopen\n",
    "import re\n",
    "from datetime import datetime\n",
    "import calendar"
   ]
  },
  {
   "cell_type": "code",
   "execution_count": 49,
   "id": "6c0b82cb",
   "metadata": {},
   "outputs": [],
   "source": [
    "# project info: https://github.com/Ironhack-data-bcn-oct-2023/project-II-pipelines\n",
    "# look for countries\n",
    "# how much $ they start with"
   ]
  },
  {
   "cell_type": "markdown",
   "id": "e54ebc58",
   "metadata": {},
   "source": [
    "## GETTING SPACE COMPANIES COUNTRY"
   ]
  },
  {
   "cell_type": "code",
   "execution_count": 50,
   "id": "436ee792",
   "metadata": {},
   "outputs": [],
   "source": [
    "url = \"https://en.wikipedia.org/wiki/List_of_launch_service_providers\""
   ]
  },
  {
   "cell_type": "code",
   "execution_count": 51,
   "id": "4551a825",
   "metadata": {},
   "outputs": [],
   "source": [
    "res = requests.get(url)\n",
    "soup = BeautifulSoup(res.content, \"html.parser\")"
   ]
  },
  {
   "cell_type": "code",
   "execution_count": 52,
   "id": "1dd4bf03",
   "metadata": {},
   "outputs": [
    {
     "data": {
      "text/plain": [
       "<div class=\"div-col\" style=\"column-width: 25em;\">\n",
       "<ul><li><a href=\"/wiki/Antrix_Corporation\" title=\"Antrix Corporation\">Antrix Corporation</a> (India)<sup class=\"reference\" id=\"cite_ref-:0_3-1\"><a href=\"#cite_note-:0-3\">[3]</a></sup></li>\n",
       "<li><a href=\"/wiki/Arianespace\" title=\"Arianespace\">Arianespace</a> (France)<sup class=\"reference\" id=\"cite_ref-:0_3-2\"><a href=\"#cite_note-:0-3\">[3]</a></sup><sup class=\"reference\" id=\"cite_ref-:1_7-0\"><a href=\"#cite_note-:1-7\">[7]</a></sup><sup class=\"reference nowrap\"><span title=\"Page: 34\">: 34 </span></sup></li>\n",
       "<li><a href=\"/wiki/Astra_(American_spaceflight_company)\" title=\"Astra (American spaceflight company)\">Astra</a> (United States)</li>\n",
       "<li><a href=\"/wiki/Blue_Origin\" title=\"Blue Origin\">Blue Origin</a> (United States)<sup class=\"reference\" id=\"cite_ref-:0_3-3\"><a href=\"#cite_note-:0-3\">[3]</a></sup></li>\n",
       "<li><a href=\"/wiki/CAS_Space\" title=\"CAS Space\">CAS Space</a> (China)</li>\n",
       "<li><a href=\"/wiki/Eurockot_Launch_Services\" title=\"Eurockot Launch Services\">Eurockot Launch Services</a> (Germany)</li>\n",
       "<li><a href=\"/wiki/Evolution_Space\" title=\"Evolution Space\">Evolution Space</a> (United States)</li>\n",
       "<li><a href=\"/wiki/Firefly_Aerospace\" title=\"Firefly Aerospace\">Firefly Aerospace</a> (United States)<sup class=\"reference\" id=\"cite_ref-:0_3-4\"><a href=\"#cite_note-:0-3\">[3]</a></sup></li>\n",
       "<li><a class=\"mw-redirect\" href=\"/wiki/GK_Launch_Services\" title=\"GK Launch Services\">GK Launch Services</a> (Russia, Kazakhstan)<sup class=\"reference\" id=\"cite_ref-:0_3-5\"><a href=\"#cite_note-:0-3\">[3]</a></sup></li>\n",
       "<li><a href=\"/wiki/International_Launch_Services\" title=\"International Launch Services\">International Launch Services</a> <i>aka</i> ILS (United States)<sup class=\"reference\" id=\"cite_ref-:1_7-1\"><a href=\"#cite_note-:1-7\">[7]</a></sup><sup class=\"reference nowrap\"><span title=\"Page: 34\">: 34 </span></sup></li>\n",
       "<li><a href=\"/wiki/ISC_Kosmotras\" title=\"ISC Kosmotras\">ISC Kosmotras</a> (Russia)</li>\n",
       "<li><a href=\"/wiki/LinkSpace\" title=\"LinkSpace\">LinkSpace</a> (China)<sup class=\"reference\" id=\"cite_ref-:0_3-6\"><a href=\"#cite_note-:0-3\">[3]</a></sup></li>\n",
       "<li><a href=\"/wiki/Mitsubishi_Heavy_Industries\" title=\"Mitsubishi Heavy Industries\">Mitsubishi Heavy Industries</a> <i>via</i> MHI Launch Services (Japan)<sup class=\"reference\" id=\"cite_ref-:0_3-7\"><a href=\"#cite_note-:0-3\">[3]</a></sup></li>\n",
       "<li><a class=\"mw-redirect\" href=\"/wiki/Northrop_Grumman_Space_Systems_Group\" title=\"Northrop Grumman Space Systems Group\">Northrop Grumman Space Systems Group</a> (United States)</li>\n",
       "<li><a href=\"/wiki/HyImpulse\" title=\"HyImpulse\">HyImpulse</a> (Germany)</li>\n",
       "<li><a href=\"/wiki/OneSpace\" title=\"OneSpace\">OneSpace</a> (China)<sup class=\"reference\" id=\"cite_ref-:0_3-8\"><a href=\"#cite_note-:0-3\">[3]</a></sup></li>\n",
       "<li><a href=\"/wiki/PLD_Space\" title=\"PLD Space\">PLD Space</a> (Spain)<sup class=\"reference\" id=\"cite_ref-:0_3-9\"><a href=\"#cite_note-:0-3\">[3]</a></sup></li>\n",
       "<li><a href=\"/wiki/Relativity_Space\" title=\"Relativity Space\">Relativity Space</a> (United States)</li>\n",
       "<li><a href=\"/wiki/Rocket_Factory_Augsburg\" title=\"Rocket Factory Augsburg\">Rocket Factory Augsburg</a> (Germany)</li>\n",
       "<li><a href=\"/wiki/Rocket_Lab\" title=\"Rocket Lab\">Rocket Lab</a> (United States/New Zealand)<sup class=\"reference\" id=\"cite_ref-:0_3-10\"><a href=\"#cite_note-:0-3\">[3]</a></sup></li>\n",
       "<li><a href=\"/wiki/Sea_Launch\" title=\"Sea Launch\">Sea Launch</a> (Switzerland)<sup class=\"reference\" id=\"cite_ref-:1_7-2\"><a href=\"#cite_note-:1-7\">[7]</a></sup><sup class=\"reference nowrap\"><span title=\"Page: 34\">: 34 </span></sup></li>\n",
       "<li><a href=\"/wiki/SpaceX\" title=\"SpaceX\">SpaceX</a> (United States)<sup class=\"reference\" id=\"cite_ref-:0_3-11\"><a href=\"#cite_note-:0-3\">[3]</a></sup><sup class=\"reference\" id=\"cite_ref-:1_7-3\"><a href=\"#cite_note-:1-7\">[7]</a></sup><sup class=\"reference nowrap\"><span title=\"Page: 34\">: 34 </span></sup></li>\n",
       "<li><a href=\"/wiki/Starsem\" title=\"Starsem\">Starsem</a> (France)</li>\n",
       "<li><a href=\"/wiki/Stoke_Space\" title=\"Stoke Space\">Stoke Space</a> (United States) <sup class=\"reference\" id=\"cite_ref-8\"><a href=\"#cite_note-8\">[8]</a></sup></li>\n",
       "<li><a href=\"/wiki/United_Launch_Alliance\" title=\"United Launch Alliance\">United Launch Alliance</a> <i>aka</i> ULA (United States)<sup class=\"reference\" id=\"cite_ref-:0_3-12\"><a href=\"#cite_note-:0-3\">[3]</a></sup></li>\n",
       "<li><a class=\"mw-redirect\" href=\"/wiki/Up_Aerospace\" title=\"Up Aerospace\">Up Aerospace</a> (United States) <sup class=\"reference\" id=\"cite_ref-9\"><a href=\"#cite_note-9\">[9]</a></sup></li>\n",
       "<li><a href=\"/wiki/Vector_Launch\" title=\"Vector Launch\">Vector Launch</a> (United States)<sup class=\"reference\" id=\"cite_ref-:0_3-13\"><a href=\"#cite_note-:0-3\">[3]</a></sup></li>\n",
       "<li><a href=\"/wiki/Virgin_Galactic\" title=\"Virgin Galactic\">Virgin Galactic</a> (United States)<sup class=\"reference\" id=\"cite_ref-10\"><a href=\"#cite_note-10\">[10]</a></sup></li>\n",
       "<li><a href=\"/wiki/Zero_2_Infinity\" title=\"Zero 2 Infinity\">Zero 2 Infinity</a> (Spain)</li></ul></div>"
      ]
     },
     "execution_count": 52,
     "metadata": {},
     "output_type": "execute_result"
    }
   ],
   "source": [
    "space_companies = soup.find_all(\"div\", {\"class\":\"div-col\"})\n",
    "space_companies[0]"
   ]
  },
  {
   "cell_type": "code",
   "execution_count": 66,
   "id": "95f4c19f",
   "metadata": {},
   "outputs": [
    {
     "data": {
      "text/plain": [
       "'Antrix Corporation (India)[3]Arianespace (France)[3][7]:\\u200a34\\u200aAstra (United States)Blue Origin (United States)[3]CAS Space (China)Eurockot Launch Services (Germany)Evolution Space (United States)Firefly Aerospace (United States)[3]GK Launch Services (Russia, Kazakhstan)[3]International Launch Services aka ILS (United States)[7]:\\u200a34\\u200aISC Kosmotras (Russia)LinkSpace (China)[3]Mitsubishi Heavy Industries via MHI Launch Services (Japan)[3]Northrop Grumman Space Systems Group (United States)HyImpulse (Germany)OneSpace (China)[3]PLD Space (Spain)[3]Relativity Space (United States)Rocket Factory Augsburg (Germany)Rocket Lab (United States/New Zealand)[3]Sea Launch (Switzerland)[7]:\\u200a34\\u200aSpaceX (United States)[3][7]:\\u200a34\\u200aStarsem (France)Stoke Space (United States) [8]United Launch Alliance aka ULA (United States)[3]Up Aerospace (United States) [9]Vector Launch (United States)[3]Virgin Galactic (United States)[10]Zero 2 Infinity (Spain)'"
      ]
     },
     "execution_count": 66,
     "metadata": {},
     "output_type": "execute_result"
    }
   ],
   "source": [
    "space_companies_processed = space_companies[0].getText().replace(\"\\n\", \"\").strip()\n",
    "space_companies_processed"
   ]
  },
  {
   "cell_type": "code",
   "execution_count": null,
   "id": "96ae20bd",
   "metadata": {},
   "outputs": [],
   "source": [
    "space_companies_processed = "
   ]
  },
  {
   "cell_type": "code",
   "execution_count": null,
   "id": "54e4e500",
   "metadata": {},
   "outputs": [],
   "source": []
  },
  {
   "cell_type": "code",
   "execution_count": null,
   "id": "ce11b81f",
   "metadata": {},
   "outputs": [],
   "source": []
  },
  {
   "cell_type": "code",
   "execution_count": null,
   "id": "2c153e61",
   "metadata": {},
   "outputs": [],
   "source": []
  },
  {
   "cell_type": "markdown",
   "id": "96788c4b",
   "metadata": {},
   "source": [
    "## Getting BUDGET per AGENCY"
   ]
  },
  {
   "cell_type": "code",
   "execution_count": 77,
   "id": "9dcd8320",
   "metadata": {},
   "outputs": [],
   "source": [
    "url2 = \"https://en.wikipedia.org/wiki/List_of_government_space_agencies#:~:text=As%20of%202023%2C%2074%20different,agencies%20and%20six%20international%20agencies.\""
   ]
  },
  {
   "cell_type": "code",
   "execution_count": 78,
   "id": "660e21fc",
   "metadata": {},
   "outputs": [],
   "source": [
    "res = requests.get(url2)\n",
    "soup = BeautifulSoup(res.content, \"html.parser\")"
   ]
  },
  {
   "cell_type": "code",
   "execution_count": 79,
   "id": "9c660546",
   "metadata": {},
   "outputs": [
    {
     "data": {
      "text/plain": [
       "'23,500'"
      ]
     },
     "execution_count": 79,
     "metadata": {},
     "output_type": "execute_result"
    }
   ],
   "source": [
    "#extracting budget column\n",
    "extracting_budget = soup.find_all(\"td\", {\"style\":\"text-align:right;\"})\n",
    "extracting_budget_processed = extracting_budget[0].getText().replace(\"\\n\", \"\").strip()\n",
    "extracting_budget_processed"
   ]
  },
  {
   "cell_type": "code",
   "execution_count": 81,
   "id": "aaed682a",
   "metadata": {},
   "outputs": [
    {
     "data": {
      "text/plain": [
       "[]"
      ]
     },
     "execution_count": 81,
     "metadata": {},
     "output_type": "execute_result"
    }
   ],
   "source": [
    "#extracting company name\n",
    "extracting_company = soup.find_all(\"td\", {\"a\":\"h-ref\"})\n",
    "extracting_company"
   ]
  },
  {
   "cell_type": "code",
   "execution_count": 83,
   "id": "3a6e4149",
   "metadata": {},
   "outputs": [
    {
     "data": {
      "text/plain": [
       "[]"
      ]
     },
     "execution_count": 83,
     "metadata": {},
     "output_type": "execute_result"
    }
   ],
   "source": [
    "ext_prueba = soup.find_all(\"td\", {\"scope\",\"row\"})\n",
    "ext_prueba"
   ]
  },
  {
   "cell_type": "code",
   "execution_count": 85,
   "id": "182e017d",
   "metadata": {},
   "outputs": [],
   "source": [
    "url = \"https://en.wikipedia.org/wiki/List_of_government_space_agencies#:~:text=As%20of%202023%2C%2074%20different,agencies%20and%20six%20international%20agencies.\""
   ]
  },
  {
   "cell_type": "code",
   "execution_count": 96,
   "id": "365a6359",
   "metadata": {},
   "outputs": [
    {
     "data": {
      "text/html": [
       "<div>\n",
       "<style scoped>\n",
       "    .dataframe tbody tr th:only-of-type {\n",
       "        vertical-align: middle;\n",
       "    }\n",
       "\n",
       "    .dataframe tbody tr th {\n",
       "        vertical-align: top;\n",
       "    }\n",
       "\n",
       "    .dataframe thead th {\n",
       "        text-align: right;\n",
       "    }\n",
       "</style>\n",
       "<table border=\"1\" class=\"dataframe\">\n",
       "  <thead>\n",
       "    <tr style=\"text-align: right;\">\n",
       "      <th></th>\n",
       "      <th>Agency (country/region)</th>\n",
       "      <th>Budget (in millions of US $)</th>\n",
       "    </tr>\n",
       "  </thead>\n",
       "  <tbody>\n",
       "    <tr>\n",
       "      <th>0</th>\n",
       "      <td>NASA (United States)</td>\n",
       "      <td>23500</td>\n",
       "    </tr>\n",
       "    <tr>\n",
       "      <th>1</th>\n",
       "      <td>CNSA (China)</td>\n",
       "      <td>11700</td>\n",
       "    </tr>\n",
       "    <tr>\n",
       "      <th>2</th>\n",
       "      <td>ESA (Europe)</td>\n",
       "      <td>7430</td>\n",
       "    </tr>\n",
       "    <tr>\n",
       "      <th>3</th>\n",
       "      <td>CNES (France)</td>\n",
       "      <td>3521</td>\n",
       "    </tr>\n",
       "    <tr>\n",
       "      <th>4</th>\n",
       "      <td>JAXA (Japan)</td>\n",
       "      <td>2388</td>\n",
       "    </tr>\n",
       "    <tr>\n",
       "      <th>5</th>\n",
       "      <td>Roscosmos (Russia)</td>\n",
       "      <td>2011</td>\n",
       "    </tr>\n",
       "    <tr>\n",
       "      <th>6</th>\n",
       "      <td>ISRO (India)</td>\n",
       "      <td>1831</td>\n",
       "    </tr>\n",
       "    <tr>\n",
       "      <th>7</th>\n",
       "      <td>ASI (Italy)</td>\n",
       "      <td>1750</td>\n",
       "    </tr>\n",
       "    <tr>\n",
       "      <th>8</th>\n",
       "      <td>DLR (Germany)</td>\n",
       "      <td>1424</td>\n",
       "    </tr>\n",
       "    <tr>\n",
       "      <th>9</th>\n",
       "      <td>AEE (Spain)</td>\n",
       "      <td>739</td>\n",
       "    </tr>\n",
       "    <tr>\n",
       "      <th>10</th>\n",
       "      <td>KARI (South Korea)</td>\n",
       "      <td>701</td>\n",
       "    </tr>\n",
       "    <tr>\n",
       "      <th>11</th>\n",
       "      <td>UKSA (United Kingdom)</td>\n",
       "      <td>604</td>\n",
       "    </tr>\n",
       "    <tr>\n",
       "      <th>12</th>\n",
       "      <td>CSA (Canada)</td>\n",
       "      <td>460</td>\n",
       "    </tr>\n",
       "    <tr>\n",
       "      <th>13</th>\n",
       "      <td>ASA (Algeria)</td>\n",
       "      <td>394</td>\n",
       "    </tr>\n",
       "    <tr>\n",
       "      <th>14</th>\n",
       "      <td>ISAB (Belgium)</td>\n",
       "      <td>260</td>\n",
       "    </tr>\n",
       "    <tr>\n",
       "      <th>15</th>\n",
       "      <td>SSO (Switzerland)</td>\n",
       "      <td>177</td>\n",
       "    </tr>\n",
       "    <tr>\n",
       "      <th>16</th>\n",
       "      <td>NSO (Netherlands)</td>\n",
       "      <td>150</td>\n",
       "    </tr>\n",
       "    <tr>\n",
       "      <th>17</th>\n",
       "      <td>SNSA (Sweden)</td>\n",
       "      <td>120</td>\n",
       "    </tr>\n",
       "    <tr>\n",
       "      <th>18</th>\n",
       "      <td>SSAU (Ukraine)</td>\n",
       "      <td>107</td>\n",
       "    </tr>\n",
       "    <tr>\n",
       "      <th>19</th>\n",
       "      <td>NOSA (Norway)</td>\n",
       "      <td>103</td>\n",
       "    </tr>\n",
       "    <tr>\n",
       "      <th>20</th>\n",
       "      <td>TUA (Turkey)</td>\n",
       "      <td>87</td>\n",
       "    </tr>\n",
       "    <tr>\n",
       "      <th>21</th>\n",
       "      <td>ALR (Austria)</td>\n",
       "      <td>75</td>\n",
       "    </tr>\n",
       "    <tr>\n",
       "      <th>22</th>\n",
       "      <td>AEB (Brazil)</td>\n",
       "      <td>68</td>\n",
       "    </tr>\n",
       "    <tr>\n",
       "      <th>23</th>\n",
       "      <td>CONAE (Argentina)</td>\n",
       "      <td>63</td>\n",
       "    </tr>\n",
       "    <tr>\n",
       "      <th>24</th>\n",
       "      <td>LAPAN (Indonesia)</td>\n",
       "      <td>54</td>\n",
       "    </tr>\n",
       "    <tr>\n",
       "      <th>25</th>\n",
       "      <td>PhilSA (Philippines)</td>\n",
       "      <td>38</td>\n",
       "    </tr>\n",
       "    <tr>\n",
       "      <th>26</th>\n",
       "      <td>ISA (Israel)</td>\n",
       "      <td>17</td>\n",
       "    </tr>\n",
       "    <tr>\n",
       "      <th>27</th>\n",
       "      <td>ISA, ISRC and ARI (Iran)</td>\n",
       "      <td>9</td>\n",
       "    </tr>\n",
       "  </tbody>\n",
       "</table>\n",
       "</div>"
      ],
      "text/plain": [
       "     Agency (country/region)  Budget (in millions of US $)\n",
       "0       NASA (United States)                         23500\n",
       "1               CNSA (China)                         11700\n",
       "2               ESA (Europe)                          7430\n",
       "3              CNES (France)                          3521\n",
       "4               JAXA (Japan)                          2388\n",
       "5         Roscosmos (Russia)                          2011\n",
       "6               ISRO (India)                          1831\n",
       "7                ASI (Italy)                          1750\n",
       "8              DLR (Germany)                          1424\n",
       "9                AEE (Spain)                           739\n",
       "10        KARI (South Korea)                           701\n",
       "11     UKSA (United Kingdom)                           604\n",
       "12              CSA (Canada)                           460\n",
       "13             ASA (Algeria)                           394\n",
       "14            ISAB (Belgium)                           260\n",
       "15         SSO (Switzerland)                           177\n",
       "16         NSO (Netherlands)                           150\n",
       "17             SNSA (Sweden)                           120\n",
       "18            SSAU (Ukraine)                           107\n",
       "19             NOSA (Norway)                           103\n",
       "20              TUA (Turkey)                            87\n",
       "21             ALR (Austria)                            75\n",
       "22              AEB (Brazil)                            68\n",
       "23         CONAE (Argentina)                            63\n",
       "24         LAPAN (Indonesia)                            54\n",
       "25      PhilSA (Philippines)                            38\n",
       "26              ISA (Israel)                            17\n",
       "27  ISA, ISRC and ARI (Iran)                             9"
      ]
     },
     "execution_count": 96,
     "metadata": {},
     "output_type": "execute_result"
    }
   ],
   "source": [
    "paises = pd.read_html(url)[6]\n",
    "paises"
   ]
  },
  {
   "cell_type": "code",
   "execution_count": null,
   "id": "8bef9839",
   "metadata": {},
   "outputs": [],
   "source": []
  }
 ],
 "metadata": {
  "kernelspec": {
   "display_name": "Python 3 (ipykernel)",
   "language": "python",
   "name": "python3"
  },
  "language_info": {
   "codemirror_mode": {
    "name": "ipython",
    "version": 3
   },
   "file_extension": ".py",
   "mimetype": "text/x-python",
   "name": "python",
   "nbconvert_exporter": "python",
   "pygments_lexer": "ipython3",
   "version": "3.10.9"
  }
 },
 "nbformat": 4,
 "nbformat_minor": 5
}
